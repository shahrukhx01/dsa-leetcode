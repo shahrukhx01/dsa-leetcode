{
 "cells": [
  {
   "cell_type": "code",
   "execution_count": 1,
   "metadata": {},
   "outputs": [],
   "source": [
    "def linear_search(alist,search_item):\n",
    "    found = False\n",
    "    for item in alist:\n",
    "        if item != search_item:\n",
    "            continue\n",
    "        else:\n",
    "            found = True\n",
    "            break\n",
    "    \n",
    "    return found"
   ]
  },
  {
   "cell_type": "code",
   "execution_count": 5,
   "metadata": {},
   "outputs": [
    {
     "data": {
      "text/plain": [
       "False"
      ]
     },
     "execution_count": 5,
     "metadata": {},
     "output_type": "execute_result"
    }
   ],
   "source": [
    "alist = [22,1,4,2,5,33,1,324,432,543,23,2]\n",
    "linear_search(alist,31)"
   ]
  },
  {
   "cell_type": "code",
   "execution_count": 6,
   "metadata": {},
   "outputs": [],
   "source": [
    "def sorted_linear_search(alist,search_item):\n",
    "    found = False\n",
    "    for item in alist:\n",
    "        if item != search_item:\n",
    "            continue\n",
    "        elif search_item > item:\n",
    "            break\n",
    "        else:\n",
    "            found = True\n",
    "            break\n",
    "    \n",
    "    return found"
   ]
  },
  {
   "cell_type": "code",
   "execution_count": 10,
   "metadata": {},
   "outputs": [
    {
     "data": {
      "text/plain": [
       "True"
      ]
     },
     "execution_count": 10,
     "metadata": {},
     "output_type": "execute_result"
    }
   ],
   "source": [
    "alist = [22,1,4,2,5,33,1,324,432,543,23,2]\n",
    "alist.sort()\n",
    "linear_search(alist,1)"
   ]
  }
 ],
 "metadata": {
  "kernelspec": {
   "display_name": "Python 3",
   "language": "python",
   "name": "python3"
  },
  "language_info": {
   "codemirror_mode": {
    "name": "ipython",
    "version": 3
   },
   "file_extension": ".py",
   "mimetype": "text/x-python",
   "name": "python",
   "nbconvert_exporter": "python",
   "pygments_lexer": "ipython3",
   "version": "3.6.3"
  }
 },
 "nbformat": 4,
 "nbformat_minor": 2
}
