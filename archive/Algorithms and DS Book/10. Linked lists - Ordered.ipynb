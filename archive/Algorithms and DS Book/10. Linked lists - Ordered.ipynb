{
 "cells": [
  {
   "cell_type": "code",
   "execution_count": 1,
   "metadata": {},
   "outputs": [],
   "source": [
    "class Node:\n",
    "    def __init__(self,data):\n",
    "        self.data = data\n",
    "        self.next = None\n",
    "        \n",
    "    def set_next(self,node):\n",
    "        self.next = node\n",
    "        \n",
    "    def get_data(self):\n",
    "        return self.data\n",
    "    \n",
    "    def get_next(self):\n",
    "        return self.next"
   ]
  },
  {
   "cell_type": "code",
   "execution_count": 10,
   "metadata": {},
   "outputs": [],
   "source": [
    "class OrderedList:\n",
    "    def __init__(self):\n",
    "        self.head = None\n",
    "        \n",
    "    \n",
    "    def is_empty(self):\n",
    "        return self.head == None\n",
    "    \n",
    "    def add(self,item):\n",
    "        current = self.head\n",
    "        previous = None\n",
    "        \n",
    "        while current!= None:\n",
    "            if current.get_data() > item:\n",
    "                break\n",
    "            else:\n",
    "                previous = current\n",
    "                current = current.next\n",
    "                \n",
    "        temp = Node(item)\n",
    "        if previous == None:\n",
    "            self.head = temp\n",
    "            temp.next = current\n",
    "        else:\n",
    "            previous.next = temp\n",
    "            temp.next = current\n",
    "    \n",
    "    def size(self):\n",
    "        temp = self.head\n",
    "        size = 0 \n",
    "        while (temp != None):\n",
    "            size += 1\n",
    "            temp = temp.next\n",
    "        return size\n",
    "    \n",
    "    def search(self,item):\n",
    "        found = False\n",
    "        temp = self.head\n",
    "        while (temp != None) and (item <= temp.data):\n",
    "            if temp.data == item:\n",
    "                return True\n",
    "            temp = temp.next\n",
    "        return found\n",
    "    \n",
    "    \n",
    "    def remove(self,item):\n",
    "        if not self.search(item):\n",
    "            return None\n",
    "        \n",
    "        current = self.head\n",
    "        previous = None\n",
    "        \n",
    "        while (current != None):\n",
    "            if current.data == item:\n",
    "                if previous == None:\n",
    "                    self.head = current.next\n",
    "                elif current.next == None:\n",
    "                    previous.next = None\n",
    "                else:\n",
    "                    previous.next = current.next\n",
    "                break\n",
    "            previous = current\n",
    "            current = current.next\n",
    "            \n",
    "   "
   ]
  },
  {
   "cell_type": "code",
   "execution_count": 13,
   "metadata": {},
   "outputs": [
    {
     "name": "stdout",
     "output_type": "stream",
     "text": [
      "1\n",
      "18\n",
      "23\n",
      "25\n",
      "43\n",
      "77\n"
     ]
    }
   ],
   "source": [
    "olist = OrderedList()\n",
    "\n",
    "olist.add(43)\n",
    "olist.add(23)\n",
    "olist.add(1)\n",
    "olist.add(25)\n",
    "olist.add(77)\n",
    "olist.add(18)\n",
    "\n",
    "list_item = olist.head\n",
    "for i in range(olist.size()):\n",
    "    print(list_item.data)\n",
    "    list_item = list_item.next"
   ]
  }
 ],
 "metadata": {
  "kernelspec": {
   "display_name": "Python 3",
   "language": "python",
   "name": "python3"
  },
  "language_info": {
   "codemirror_mode": {
    "name": "ipython",
    "version": 3
   },
   "file_extension": ".py",
   "mimetype": "text/x-python",
   "name": "python",
   "nbconvert_exporter": "python",
   "pygments_lexer": "ipython3",
   "version": "3.6.3"
  }
 },
 "nbformat": 4,
 "nbformat_minor": 2
}
