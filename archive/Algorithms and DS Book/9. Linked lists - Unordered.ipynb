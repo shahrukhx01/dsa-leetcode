{
 "cells": [
  {
   "cell_type": "code",
   "execution_count": 18,
   "metadata": {},
   "outputs": [],
   "source": [
    "class Node:\n",
    "    def __init__(self,data):\n",
    "        self.data = data\n",
    "        self.next = None\n",
    "        \n",
    "    def set_next(self,node):\n",
    "        self.next = node\n",
    "        \n",
    "    def get_data(self):\n",
    "        return self.data\n",
    "    \n",
    "    def get_next(self):\n",
    "        return self.next"
   ]
  },
  {
   "cell_type": "code",
   "execution_count": 84,
   "metadata": {},
   "outputs": [],
   "source": [
    "class UnorderedList:\n",
    "    def __init__(self):\n",
    "        self.head = None\n",
    "        self.tail = None\n",
    "    \n",
    "    def is_empty(self):\n",
    "        return self.head == None\n",
    "    \n",
    "    def add(self,item):\n",
    "        \n",
    "        temp = Node(item)\n",
    "        temp.set_next(self.head)\n",
    "        if self.head == None:\n",
    "            self.tail = temp\n",
    "        self.head = temp\n",
    "        \n",
    "    \n",
    "    def size(self):\n",
    "        temp = self.head\n",
    "        size = 0 \n",
    "        while (temp != None):\n",
    "            size += 1\n",
    "            temp = temp.next\n",
    "        return size\n",
    "    \n",
    "    def search(self,item):\n",
    "        found = False\n",
    "        temp = self.head\n",
    "        while (temp != None):\n",
    "            if temp.data == item:\n",
    "                return True\n",
    "            temp = temp.next\n",
    "        return found\n",
    "    \n",
    "    def search_node(self,item):\n",
    "        found = None\n",
    "        temp = self.head\n",
    "        while (temp != None):\n",
    "            if temp.data == item:\n",
    "                return temp\n",
    "            temp = temp.next\n",
    "        return None\n",
    "    \n",
    "    def remove(self,item):\n",
    "        if not self.search(item):\n",
    "            return None\n",
    "        \n",
    "        current = self.head\n",
    "        previous = None\n",
    "        \n",
    "        while (current != None):\n",
    "            if current.data == item:\n",
    "                if previous == None:\n",
    "                    self.head = current.next\n",
    "                elif current.next == None:\n",
    "                    previous.next = None\n",
    "                    self.tail = previous\n",
    "                else:\n",
    "                    previous.next = current.next\n",
    "                break\n",
    "            previous = current\n",
    "            current = current.next\n",
    "            \n",
    "    def append(self,item):\n",
    "        temp = Node(item)\n",
    "        self.tail.next = temp\n",
    "        self.tail = temp"
   ]
  },
  {
   "cell_type": "code",
   "execution_count": 86,
   "metadata": {},
   "outputs": [
    {
     "name": "stdout",
     "output_type": "stream",
     "text": [
      "1\n",
      "None\n",
      "1\n"
     ]
    }
   ],
   "source": [
    "import random\n",
    "olist = UnorderedList()\n",
    "[olist.add(i) for i in range(1,10)]\n",
    "olist.size()\n",
    "olist.add(31)\n",
    "olist.add(77)\n",
    "olist.add(17)\n",
    "olist.add(93)\n",
    "olist.add(26)\n",
    "olist.add(54)\n",
    "print(olist.search_node(1).data)\n",
    "olist.remove(1)\n",
    "print(olist.search_node(2).next)\n",
    "olist.append(1)\n",
    "print(olist.search_node(2).next.data)"
   ]
  }
 ],
 "metadata": {
  "kernelspec": {
   "display_name": "Python 3",
   "language": "python",
   "name": "python3"
  },
  "language_info": {
   "codemirror_mode": {
    "name": "ipython",
    "version": 3
   },
   "file_extension": ".py",
   "mimetype": "text/x-python",
   "name": "python",
   "nbconvert_exporter": "python",
   "pygments_lexer": "ipython3",
   "version": "3.6.3"
  }
 },
 "nbformat": 4,
 "nbformat_minor": 2
}
