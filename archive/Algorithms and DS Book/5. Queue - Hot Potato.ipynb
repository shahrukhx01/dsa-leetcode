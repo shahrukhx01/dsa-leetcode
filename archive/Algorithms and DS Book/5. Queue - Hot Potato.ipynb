{
 "cells": [
  {
   "cell_type": "code",
   "execution_count": 1,
   "metadata": {},
   "outputs": [],
   "source": [
    "class Queue:\n",
    "    def  __init__(self):\n",
    "        self.items = []\n",
    "    \n",
    "    def enqueue(self,item):\n",
    "        self.items.insert(0,item)\n",
    "    \n",
    "    def dequeue(self):\n",
    "        return self.items.pop()\n",
    "    \n",
    "    def is_empty(self):\n",
    "        return self.size() == 0\n",
    "    \n",
    "    def size(self):\n",
    "        return len(self.items)\n"
   ]
  },
  {
   "cell_type": "code",
   "execution_count": 12,
   "metadata": {},
   "outputs": [
    {
     "data": {
      "text/plain": [
       "'Kent'"
      ]
     },
     "execution_count": 12,
     "metadata": {},
     "output_type": "execute_result"
    }
   ],
   "source": [
    "def hot_potato(list_names, num):\n",
    "    queue = Queue()\n",
    "    for name in list_names:\n",
    "        queue.enqueue(name)\n",
    "    \n",
    "    while queue.size() > 1:\n",
    "        for i in range(num):\n",
    "            queue.enqueue(queue.dequeue())\n",
    "        queue.dequeue()\n",
    "    return queue.dequeue()\n",
    "names = ['Bill','David','Susan','Jane','Kent','Brad']\n",
    "hot_potato(names,101)"
   ]
  }
 ],
 "metadata": {
  "kernelspec": {
   "display_name": "Python 3",
   "language": "python",
   "name": "python3"
  },
  "language_info": {
   "codemirror_mode": {
    "name": "ipython",
    "version": 3
   },
   "file_extension": ".py",
   "mimetype": "text/x-python",
   "name": "python",
   "nbconvert_exporter": "python",
   "pygments_lexer": "ipython3",
   "version": "3.6.3"
  }
 },
 "nbformat": 4,
 "nbformat_minor": 2
}
