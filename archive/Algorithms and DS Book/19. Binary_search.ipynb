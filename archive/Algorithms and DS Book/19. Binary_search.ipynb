{
 "cells": [
  {
   "cell_type": "code",
   "execution_count": 7,
   "metadata": {},
   "outputs": [],
   "source": [
    "def binary_search(alist,search_item):\n",
    "    if len(alist) == 0:\n",
    "        return False\n",
    "    else:\n",
    "        start = 0\n",
    "        end = len(alist) - 1\n",
    "        mid = (start+end) // 2\n",
    "        \n",
    "        if alist[mid] == search_item:\n",
    "            return True\n",
    "        \n",
    "        if search_item > alist[mid]:\n",
    "            return binary_search(alist[(mid+1):],search_item)\n",
    "        else:\n",
    "            return binary_search(alist[:mid],search_item)\n",
    "            "
   ]
  },
  {
   "cell_type": "code",
   "execution_count": 11,
   "metadata": {},
   "outputs": [
    {
     "data": {
      "text/plain": [
       "True"
      ]
     },
     "execution_count": 11,
     "metadata": {},
     "output_type": "execute_result"
    }
   ],
   "source": [
    "alist = [22,1,4,2,5,33,1,324,432,543,23,2]\n",
    "alist.sort()\n",
    "binary_search(alist,1)"
   ]
  }
 ],
 "metadata": {
  "kernelspec": {
   "display_name": "Python 3",
   "language": "python",
   "name": "python3"
  },
  "language_info": {
   "codemirror_mode": {
    "name": "ipython",
    "version": 3
   },
   "file_extension": ".py",
   "mimetype": "text/x-python",
   "name": "python",
   "nbconvert_exporter": "python",
   "pygments_lexer": "ipython3",
   "version": "3.6.3"
  }
 },
 "nbformat": 4,
 "nbformat_minor": 2
}
