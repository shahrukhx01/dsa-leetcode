{
 "cells": [
  {
   "cell_type": "code",
   "execution_count": 8,
   "metadata": {},
   "outputs": [],
   "source": [
    "def coinChange(coins,amount,dict_tracker):\n",
    "    mincoins = amount\n",
    "    if amount in dict_tracker.keys():\n",
    "        return dict_tracker[amount]\n",
    "    elif amount in coins:\n",
    "        return 1\n",
    "    else:\n",
    "        for i in [c for c in coins if c <= amount]:\n",
    "            numCoins = 1 + coinChange(coins,amount-i,dict_tracker)\n",
    "            if numCoins < mincoins:\n",
    "                mincoins = numCoins\n",
    "                dict_tracker[amount] = mincoins\n",
    "    return mincoins\n",
    "            \n",
    "    "
   ]
  },
  {
   "cell_type": "code",
   "execution_count": 9,
   "metadata": {},
   "outputs": [
    {
     "data": {
      "text/plain": [
       "4"
      ]
     },
     "execution_count": 9,
     "metadata": {},
     "output_type": "execute_result"
    }
   ],
   "source": [
    "coinChange([1,5,10,25],61,{})"
   ]
  }
 ],
 "metadata": {
  "kernelspec": {
   "display_name": "Python 3",
   "language": "python",
   "name": "python3"
  },
  "language_info": {
   "codemirror_mode": {
    "name": "ipython",
    "version": 3
   },
   "file_extension": ".py",
   "mimetype": "text/x-python",
   "name": "python",
   "nbconvert_exporter": "python",
   "pygments_lexer": "ipython3",
   "version": "3.6.3"
  }
 },
 "nbformat": 4,
 "nbformat_minor": 2
}
