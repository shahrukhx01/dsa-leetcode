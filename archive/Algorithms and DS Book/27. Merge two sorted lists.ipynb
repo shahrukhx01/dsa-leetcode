{
 "cells": [
  {
   "cell_type": "code",
   "execution_count": 1,
   "metadata": {},
   "outputs": [],
   "source": [
    "def merge_sorted_lists(left,right):\n",
    "    merged = [None] * (len(left)+len(right))\n",
    "    i,j,k = 0,0,0\n",
    "    while i < len(left) and j <len(right):\n",
    "        if left[i] < right[j]:\n",
    "            merged[k] = left[i]\n",
    "            i+=1\n",
    "        else:\n",
    "            merged[k] = right[j]\n",
    "            j+=1\n",
    "        k+=1\n",
    "    \n",
    "    while i<len(left):\n",
    "        merged[k] = left[i]\n",
    "        i+=1\n",
    "        k+=1\n",
    "        \n",
    "    while j<len(right):\n",
    "        merged[k] = right[j]\n",
    "        j+=1\n",
    "        k+=1\n",
    "    return merged"
   ]
  },
  {
   "cell_type": "code",
   "execution_count": 2,
   "metadata": {},
   "outputs": [
    {
     "data": {
      "text/plain": [
       "[17, 20, 26, 31, 44, 54, 55, 77, 93]"
      ]
     },
     "execution_count": 2,
     "metadata": {},
     "output_type": "execute_result"
    }
   ],
   "source": [
    "alist = [54, 26, 77, 31, 44, 55, 20, 93, 17]\n",
    "alist.sort()\n",
    "mid = len(alist)//2\n",
    "\n",
    "merge_sorted_lists(alist[mid:],alist[:mid])\n"
   ]
  }
 ],
 "metadata": {
  "kernelspec": {
   "display_name": "Python 3",
   "language": "python",
   "name": "python3"
  },
  "language_info": {
   "codemirror_mode": {
    "name": "ipython",
    "version": 3
   },
   "file_extension": ".py",
   "mimetype": "text/x-python",
   "name": "python",
   "nbconvert_exporter": "python",
   "pygments_lexer": "ipython3",
   "version": "3.6.3"
  }
 },
 "nbformat": 4,
 "nbformat_minor": 2
}
