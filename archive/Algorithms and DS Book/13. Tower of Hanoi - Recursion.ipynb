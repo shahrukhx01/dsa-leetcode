{
 "cells": [
  {
   "cell_type": "code",
   "execution_count": 17,
   "metadata": {},
   "outputs": [],
   "source": [
    "\n",
    "def move_tower(N,source,intermediate,destination):\n",
    "    if N >= 1:\n",
    "        move_tower(N-1, source, destination, intermediate)\n",
    "        move_disc(source,destination)\n",
    "        move_tower(N-1, intermediate, source, destination)\n",
    "        \n",
    "def move_disc(srcTower,destTower):\n",
    "\n",
    "    print(\" Moving from tower \",srcTower,\"to destination tower\",destTower)"
   ]
  },
  {
   "cell_type": "code",
   "execution_count": 21,
   "metadata": {},
   "outputs": [
    {
     "name": "stdout",
     "output_type": "stream",
     "text": [
      " Moving from tower  A to destination tower B\n",
      " Moving from tower  A to destination tower C\n",
      " Moving from tower  B to destination tower C\n",
      " Moving from tower  A to destination tower B\n",
      " Moving from tower  C to destination tower A\n",
      " Moving from tower  C to destination tower B\n",
      " Moving from tower  A to destination tower B\n",
      " Moving from tower  A to destination tower C\n",
      " Moving from tower  B to destination tower C\n",
      " Moving from tower  B to destination tower A\n",
      " Moving from tower  C to destination tower A\n",
      " Moving from tower  B to destination tower C\n",
      " Moving from tower  A to destination tower B\n",
      " Moving from tower  A to destination tower C\n",
      " Moving from tower  B to destination tower C\n"
     ]
    }
   ],
   "source": [
    "move_tower(4,\"A\",\"B\",\"C\")"
   ]
  }
 ],
 "metadata": {
  "kernelspec": {
   "display_name": "Python 3",
   "language": "python",
   "name": "python3"
  },
  "language_info": {
   "codemirror_mode": {
    "name": "ipython",
    "version": 3
   },
   "file_extension": ".py",
   "mimetype": "text/x-python",
   "name": "python",
   "nbconvert_exporter": "python",
   "pygments_lexer": "ipython3",
   "version": "3.6.3"
  }
 },
 "nbformat": 4,
 "nbformat_minor": 2
}
