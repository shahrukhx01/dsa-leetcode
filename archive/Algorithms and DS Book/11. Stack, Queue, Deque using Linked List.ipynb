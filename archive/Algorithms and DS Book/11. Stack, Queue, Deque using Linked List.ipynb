{
 "cells": [
  {
   "cell_type": "code",
   "execution_count": 1,
   "metadata": {},
   "outputs": [],
   "source": [
    "class Node:\n",
    "    def __init__(self,data):\n",
    "        self.data = data\n",
    "        self.next = None\n",
    "        \n",
    "    def set_next(self,node):\n",
    "        self.next = node\n",
    "        \n",
    "    def get_data(self):\n",
    "        return self.data\n",
    "    \n",
    "    def get_next(self):\n",
    "        return self.next"
   ]
  },
  {
   "cell_type": "code",
   "execution_count": 6,
   "metadata": {},
   "outputs": [],
   "source": [
    "class UnorderedList:\n",
    "    def __init__(self):\n",
    "        self.head = None\n",
    "        self.tail = None\n",
    "    \n",
    "    def is_empty(self):\n",
    "        return self.head == None\n",
    "    \n",
    "    def add(self,item):\n",
    "        \n",
    "        temp = Node(item)\n",
    "        temp.set_next(self.head)\n",
    "        if self.head == None:\n",
    "            self.tail = temp\n",
    "        self.head = temp\n",
    "        \n",
    "    \n",
    "    def size(self):\n",
    "        temp = self.head\n",
    "        size = 0 \n",
    "        while (temp != None):\n",
    "            size += 1\n",
    "            temp = temp.next\n",
    "        return size\n",
    "    \n",
    "    def search(self,item):\n",
    "        found = False\n",
    "        temp = self.head\n",
    "        while (temp != None):\n",
    "            if temp.data == item:\n",
    "                return True\n",
    "            temp = temp.next\n",
    "        return found\n",
    "    \n",
    "    def search_node(self,item):\n",
    "        found = None\n",
    "        temp = self.head\n",
    "        while (temp != None):\n",
    "            if temp.data == item:\n",
    "                return temp\n",
    "            temp = temp.next\n",
    "        return None\n",
    "    \n",
    "    def remove(self):\n",
    "        temp = self.head\n",
    "        self.head = self.head.next\n",
    "        return temp\n",
    "            \n",
    "   "
   ]
  },
  {
   "cell_type": "markdown",
   "metadata": {},
   "source": [
    "# Implementing Stack"
   ]
  },
  {
   "cell_type": "code",
   "execution_count": 4,
   "metadata": {},
   "outputs": [],
   "source": [
    "class Stack:\n",
    "\n",
    "    def __init__(self):\n",
    "\n",
    "        self.items = UnorderedList()\n",
    "    \n",
    "    def push(self,item):\n",
    "        \n",
    "        self.items.add(item)\n",
    "        \n",
    "    def pop(self):\n",
    "\n",
    "        return self.items.remove().get_data()\n",
    "        \n",
    "    def peek(self):\n",
    "        \n",
    "        \n",
    "        return self.items.tail.get_data()\n",
    "    \n",
    "    def isEmpty(self):\n",
    "        \n",
    "        return self.items.size() == 0\n",
    "    \n",
    "    def size(self):\n",
    "    \n",
    "        return self.items.size()\n",
    "    \n",
    "    "
   ]
  },
  {
   "cell_type": "code",
   "execution_count": 14,
   "metadata": {},
   "outputs": [
    {
     "name": "stdout",
     "output_type": "stream",
     "text": [
      "z\n",
      "y\n",
      "x\n"
     ]
    },
    {
     "data": {
      "text/plain": [
       "True"
      ]
     },
     "execution_count": 14,
     "metadata": {},
     "output_type": "execute_result"
    }
   ],
   "source": [
    "m = Stack()\n",
    "m.push('x')\n",
    "m.push('y')\n",
    "m.push('z')\n",
    "print(m.pop())\n",
    "print(m.pop())\n",
    "print(m.pop())\n",
    "m.isEmpty()"
   ]
  }
 ],
 "metadata": {
  "kernelspec": {
   "display_name": "Python 3",
   "language": "python",
   "name": "python3"
  },
  "language_info": {
   "codemirror_mode": {
    "name": "ipython",
    "version": 3
   },
   "file_extension": ".py",
   "mimetype": "text/x-python",
   "name": "python",
   "nbconvert_exporter": "python",
   "pygments_lexer": "ipython3",
   "version": "3.6.3"
  }
 },
 "nbformat": 4,
 "nbformat_minor": 2
}
