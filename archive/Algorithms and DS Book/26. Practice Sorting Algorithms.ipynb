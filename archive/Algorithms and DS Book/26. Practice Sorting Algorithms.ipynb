{
 "cells": [
  {
   "cell_type": "code",
   "execution_count": 24,
   "metadata": {},
   "outputs": [],
   "source": [
    "def bubble_sort(alist):\n",
    "    for i in range(len(alist)-1):\n",
    "        for j in range(1,len(alist)-i):\n",
    "            if alist[j-1] > alist[j]:\n",
    "                temp = alist[j]\n",
    "                alist[j] = alist[j-1]\n",
    "                alist[j-1] = temp\n",
    "    return alist"
   ]
  },
  {
   "cell_type": "code",
   "execution_count": 30,
   "metadata": {},
   "outputs": [],
   "source": [
    "def selection_sort(alist):\n",
    "    for i in range(len(alist)-1):\n",
    "        position = i\n",
    "        for j in range(i,len(alist)):\n",
    "            if alist[position] > alist[j]:\n",
    "                position = j\n",
    "        temp = alist[position]\n",
    "        alist[position] = alist[i]\n",
    "        alist[i] = temp\n",
    "    return alist"
   ]
  },
  {
   "cell_type": "code",
   "execution_count": 38,
   "metadata": {},
   "outputs": [],
   "source": [
    "def insert_sort(alist):\n",
    "    for i in range(1,len(alist)):\n",
    "        position = i\n",
    "        current_value = alist[i]\n",
    "        \n",
    "        while position > 0 and alist[position-1] > current_value:\n",
    "            alist[position] = alist[position-1] \n",
    "            position = position - 1\n",
    "            \n",
    "        alist[position] = current_value\n",
    "        \n",
    "    return alist"
   ]
  },
  {
   "cell_type": "code",
   "execution_count": 54,
   "metadata": {},
   "outputs": [],
   "source": [
    "def merge_sort(alist):\n",
    "    if len(alist) > 1:\n",
    "        mid = len(alist) // 2\n",
    "        left = alist[:mid]\n",
    "        right = alist[mid:]\n",
    "\n",
    "        merge_sort(left)\n",
    "        merge_sort(right)\n",
    "\n",
    "        i,j,k = 0,0,0\n",
    "\n",
    "        while i<len(left) and j<len(right):\n",
    "            if left[i] < right[j]:\n",
    "                alist[k] = left[i]\n",
    "                i+=1\n",
    "            else:\n",
    "                alist[k] = right[j]\n",
    "                j+=1\n",
    "            k+=1\n",
    "            \n",
    "        while i<len(left):\n",
    "            alist[k] = left[i]\n",
    "            i+=1\n",
    "            k+=1\n",
    "        \n",
    "        while j<len(right):\n",
    "            alist[k] = right[j]\n",
    "            j+=1\n",
    "            k+=1\n",
    "    return alist"
   ]
  },
  {
   "cell_type": "code",
   "execution_count": 61,
   "metadata": {},
   "outputs": [],
   "source": [
    "alist = [54, 26, 93, 17, 77, 31, 44, 55, 20]\n",
    "alist = merge_sort(alist)"
   ]
  },
  {
   "cell_type": "code",
   "execution_count": 64,
   "metadata": {},
   "outputs": [],
   "source": [
    "def binary_search(alist,search_data):\n",
    "    if len(alist) == 0:\n",
    "        return False\n",
    "    mid = len(alist) // 2\n",
    "    \n",
    "    if alist[mid] == search_data:\n",
    "        return True\n",
    "    \n",
    "    if search_data > alist[mid]:\n",
    "        return binary_search(alist[mid+1:],search_data)\n",
    "    else:\n",
    "        return binary_search(alist[:mid],search_data)"
   ]
  }
 ],
 "metadata": {
  "kernelspec": {
   "display_name": "Python 3",
   "language": "python",
   "name": "python3"
  },
  "language_info": {
   "codemirror_mode": {
    "name": "ipython",
    "version": 3
   },
   "file_extension": ".py",
   "mimetype": "text/x-python",
   "name": "python",
   "nbconvert_exporter": "python",
   "pygments_lexer": "ipython3",
   "version": "3.6.3"
  }
 },
 "nbformat": 4,
 "nbformat_minor": 2
}
