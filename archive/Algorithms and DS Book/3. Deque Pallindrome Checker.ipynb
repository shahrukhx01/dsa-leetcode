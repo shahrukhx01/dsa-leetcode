{
 "cells": [
  {
   "cell_type": "code",
   "execution_count": 1,
   "metadata": {},
   "outputs": [],
   "source": [
    "class Deque:\n",
    "    def __init__(self):\n",
    "        self.items = []\n",
    "    \n",
    "    def enqueue_front(self,item):\n",
    "        self.items.append(item)\n",
    "        \n",
    "    def enqueue_rear(self,item):\n",
    "        self.items.insert(0,item)\n",
    "        \n",
    "    def dequeue_front(self):\n",
    "        return self.items.pop()\n",
    "    \n",
    "    def dequeue_rear(self):\n",
    "        return self.items.pop(0)\n",
    "    \n",
    "    def size(self):\n",
    "        return len(self.items)\n",
    "    \n",
    "    def is_empty(self):\n",
    "        return self.size() == 0"
   ]
  },
  {
   "cell_type": "code",
   "execution_count": 5,
   "metadata": {},
   "outputs": [
    {
     "data": {
      "text/plain": [
       "True"
      ]
     },
     "execution_count": 5,
     "metadata": {},
     "output_type": "execute_result"
    }
   ],
   "source": [
    "def palindrome_checker(a_string):\n",
    "    \n",
    "    deq = Deque()\n",
    "    \n",
    "    for char in a_string:\n",
    "        deq.enqueue_rear(char)\n",
    "    \n",
    "    while deq.size() > 1:\n",
    "        if deq.dequeue_front() == deq.dequeue_rear():\n",
    "            continue\n",
    "        else:\n",
    "            return False\n",
    "    return True\n",
    "palindrome_checker(\"radar\")"
   ]
  }
 ],
 "metadata": {
  "kernelspec": {
   "display_name": "Python 3",
   "language": "python",
   "name": "python3"
  },
  "language_info": {
   "codemirror_mode": {
    "name": "ipython",
    "version": 3
   },
   "file_extension": ".py",
   "mimetype": "text/x-python",
   "name": "python",
   "nbconvert_exporter": "python",
   "pygments_lexer": "ipython3",
   "version": "3.6.3"
  }
 },
 "nbformat": 4,
 "nbformat_minor": 2
}
