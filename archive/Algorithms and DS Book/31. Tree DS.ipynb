{
 "cells": [
  {
   "cell_type": "code",
   "execution_count": 18,
   "metadata": {},
   "outputs": [],
   "source": [
    "class Tree:\n",
    "    def __init__(self,rootVal):\n",
    "        self.left = None\n",
    "        self.right = None\n",
    "        self.key = rootVal\n",
    "        \n",
    "    def insert_left(self,newNode):\n",
    "        if self.left == None:\n",
    "            self.left = Tree(newNode)\n",
    "        else:\n",
    "            t = BinTree(newNode)\n",
    "            t.left = self.left\n",
    "            self.left = t\n",
    "        \n",
    "    def insert_right(self,newNode):\n",
    "        if self.right == None:\n",
    "            self.right = Tree(newNode)\n",
    "        else:\n",
    "            t = BinTree(newNode)\n",
    "            t.right = self.right\n",
    "            self.right = t\n",
    "        \n",
    "    def get_right_child (self):\n",
    "        return self.right\n",
    "    \n",
    "    def get_left_child(self):\n",
    "        return self.left\n",
    "    \n",
    "    def get_root_value(self):\n",
    "        return self.key"
   ]
  },
  {
   "cell_type": "code",
   "execution_count": 23,
   "metadata": {},
   "outputs": [
    {
     "data": {
      "text/plain": [
       "<__main__.Tree at 0x10d27c0f0>"
      ]
     },
     "execution_count": 23,
     "metadata": {},
     "output_type": "execute_result"
    }
   ],
   "source": [
    "root = Tree(5)\n",
    "root.insert_left(6)\n",
    "root.insert_left(7)\n",
    "root"
   ]
  },
  {
   "cell_type": "code",
   "execution_count": 24,
   "metadata": {},
   "outputs": [
    {
     "data": {
      "text/plain": [
       "7"
      ]
     },
     "execution_count": 24,
     "metadata": {},
     "output_type": "execute_result"
    }
   ],
   "source": [
    "root.get_left_child().get_root_value()"
   ]
  }
 ],
 "metadata": {
  "kernelspec": {
   "display_name": "Python 3",
   "language": "python",
   "name": "python3"
  },
  "language_info": {
   "codemirror_mode": {
    "name": "ipython",
    "version": 3
   },
   "file_extension": ".py",
   "mimetype": "text/x-python",
   "name": "python",
   "nbconvert_exporter": "python",
   "pygments_lexer": "ipython3",
   "version": "3.6.3"
  }
 },
 "nbformat": 4,
 "nbformat_minor": 2
}
