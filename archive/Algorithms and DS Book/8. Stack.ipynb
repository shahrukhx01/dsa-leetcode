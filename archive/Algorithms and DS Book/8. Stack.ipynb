{
 "cells": [
  {
   "cell_type": "markdown",
   "metadata": {},
   "source": [
    "## Algorithms and Data Structures using Python - Chapter 3 (Stack)"
   ]
  },
  {
   "cell_type": "code",
   "execution_count": 15,
   "metadata": {},
   "outputs": [],
   "source": [
    "class StackEmptyError(Exception):\n",
    "    def __init__(self, message):\n",
    "\n",
    "        # Call the base class constructor with the parameters it needs\n",
    "        super().__init__(message)\n"
   ]
  },
  {
   "cell_type": "code",
   "execution_count": 19,
   "metadata": {},
   "outputs": [],
   "source": [
    "class Stack:\n",
    "    \"\"\"\n",
    "    A class used to represent a Stack\n",
    "\n",
    "    ...\n",
    "\n",
    "    Attributes\n",
    "    ----------\n",
    "    items : list\n",
    "        an ordered list to maintain all the stack items\n",
    "    \n",
    "    Methods\n",
    "    -------\n",
    "    push(item)\n",
    "        Pushes the item to the top of the Stack\n",
    "    pop()\n",
    "        Removes the item from the top of the Stack\n",
    "    is_empty(item)\n",
    "        Checks if Stack is empty or not\n",
    "    peek(item)\n",
    "        Returns the top element of the Stack\n",
    "    size()\n",
    "        Returns the number of items present in the Stack\n",
    "    \n",
    "    \"\"\"\n",
    "    def __init__(self):\n",
    "        \"\"\"Initializes an empty stack\n",
    "        Parameters\n",
    "        ----------\n",
    "        None\n",
    "        \n",
    "        Returns\n",
    "        ----------\n",
    "        None\n",
    "        \n",
    "        Raises\n",
    "        ------\n",
    "        None\n",
    "        \"\"\"\n",
    "        \n",
    "        self.items = []\n",
    "    \n",
    "    def push(self,item):\n",
    "        \"\"\"Removes the item from the top of the Stack\n",
    "        Parameters\n",
    "        ----------\n",
    "        Any Python data type.\n",
    "        \n",
    "        Returns\n",
    "        ----------\n",
    "        None\n",
    "        \n",
    "        Raises\n",
    "        ------\n",
    "        None\n",
    "        \"\"\"\n",
    "        \n",
    "        self.items.append(item)\n",
    "        \n",
    "    def pop(self):\n",
    "        \"\"\"Removes the item from the top of the Stack\n",
    "        Parameters\n",
    "        ----------\n",
    "        None\n",
    "        \n",
    "        Returns\n",
    "        ----------\n",
    "        None\n",
    "        \n",
    "        Raises\n",
    "        ------\n",
    "        StackEmptyError\n",
    "            If pop is called on a empty stack.\n",
    "        \"\"\"\n",
    "\n",
    "        if len(self.items) == 0:\n",
    "            raise StackEmptyError(\"Stack is already empty!\")\n",
    "            return\n",
    "\n",
    "        return self.items.pop()\n",
    "        \n",
    "    def peek(self):\n",
    "        \"\"\"Removes the item from the top of the Stack\n",
    "        Parameters\n",
    "        ----------\n",
    "        None\n",
    "        \n",
    "        Returns\n",
    "        ----------\n",
    "        None\n",
    "        \n",
    "        Raises\n",
    "        ------\n",
    "        None\n",
    "        \"\"\"\n",
    "        \n",
    "        return self.items[-1]\n",
    "    \n",
    "    def isEmpty(self):\n",
    "        \"\"\"Checks if the stack is empty\n",
    "        Parameters\n",
    "        ----------\n",
    "        None\n",
    "        \n",
    "        Returns\n",
    "        ----------\n",
    "        Boolean\n",
    "        \n",
    "        Raises\n",
    "        ------\n",
    "        None\n",
    "        \"\"\"\n",
    "        \n",
    "        return len(self.items) == 0\n",
    "    \n",
    "    def size(self):\n",
    "        \"\"\"Returns the size of the stack\n",
    "        Parameters\n",
    "        ----------\n",
    "        None\n",
    "        \n",
    "        Returns\n",
    "        ----------\n",
    "        Integer\n",
    "        \n",
    "        Raises\n",
    "        ------\n",
    "        None\n",
    "        \"\"\"\n",
    "        \n",
    "        return len(self.items)\n",
    "    \n",
    "    "
   ]
  },
  {
   "cell_type": "code",
   "execution_count": 20,
   "metadata": {},
   "outputs": [
    {
     "name": "stdout",
     "output_type": "stream",
     "text": [
      "True\n",
      "dog\n",
      "3\n",
      "False\n",
      "8.4\n",
      "True\n",
      "2\n"
     ]
    }
   ],
   "source": [
    "s=Stack()\n",
    "\n",
    "print(s.isEmpty())\n",
    "s.push(4)\n",
    "s.push('dog')\n",
    "print(s.peek())\n",
    "s.push(True)\n",
    "print(s.size())\n",
    "print(s.isEmpty())\n",
    "s.push(8.4)\n",
    "print(s.pop())\n",
    "print(s.pop())\n",
    "print(s.size())"
   ]
  },
  {
   "cell_type": "code",
   "execution_count": 21,
   "metadata": {},
   "outputs": [
    {
     "data": {
      "text/plain": [
       "'z'"
      ]
     },
     "execution_count": 21,
     "metadata": {},
     "output_type": "execute_result"
    }
   ],
   "source": [
    "m = Stack()\n",
    "m.push('x')\n",
    "m.push('y')\n",
    "m.pop()\n",
    "m.push('z')\n",
    "m.peek()"
   ]
  },
  {
   "cell_type": "markdown",
   "metadata": {},
   "source": [
    "## Write a function revstring(mystr) that uses a stack to reverse the characters in a string."
   ]
  },
  {
   "cell_type": "code",
   "execution_count": 25,
   "metadata": {},
   "outputs": [],
   "source": [
    "def reverseString (inputText):\n",
    "    stack = Stack()\n",
    "    for char in inputText:\n",
    "        stack.push(char)\n",
    "    revStr = \"\"\n",
    "    for index in range(stack.size()):\n",
    "        revStr += stack.pop()\n",
    "    return revStr"
   ]
  },
  {
   "cell_type": "code",
   "execution_count": 26,
   "metadata": {},
   "outputs": [
    {
     "name": "stdout",
     "output_type": "stream",
     "text": [
      "dlrow olleh\n"
     ]
    }
   ],
   "source": [
    "inputText = \"hello world\" \n",
    "\n",
    "print(reverseString (inputText))"
   ]
  },
  {
   "cell_type": "markdown",
   "metadata": {},
   "source": [
    "## Parenthesis checker using Stack"
   ]
  },
  {
   "cell_type": "code",
   "execution_count": 68,
   "metadata": {},
   "outputs": [],
   "source": [
    "def par_checker(exp):\n",
    "    \n",
    "    s = Stack()\n",
    "    \n",
    "    index = 0\n",
    "    while index < len(exp):\n",
    "        \n",
    "        if exp[index] == \"(\":\n",
    "            s.push(exp[index])\n",
    "        else:\n",
    "            if s.isEmpty():\n",
    "                break\n",
    "            else:\n",
    "                s.pop()\n",
    "        index = index + 1 \n",
    "    \n",
    "        \n",
    "    return s.isEmpty()"
   ]
  },
  {
   "cell_type": "code",
   "execution_count": 69,
   "metadata": {},
   "outputs": [
    {
     "name": "stdout",
     "output_type": "stream",
     "text": [
      "False\n"
     ]
    }
   ],
   "source": [
    "print(par_checker(\"(())(()\"))"
   ]
  },
  {
   "cell_type": "code",
   "execution_count": 80,
   "metadata": {},
   "outputs": [],
   "source": [
    "def multi_par_checker(exp):\n",
    "    \n",
    "    s = Stack()\n",
    "    \n",
    "    index = 0\n",
    "    while index < len(exp):\n",
    "        \n",
    "        if exp[index] in \"{[(\":\n",
    "            s.push(exp[index])\n",
    "        else:\n",
    "            top = \"\"\n",
    "            if not s.isEmpty:\n",
    "                top = s.peek()\n",
    "            if s.isEmpty() or not match(top,exp[index]):\n",
    "                break\n",
    "            else:\n",
    "                s.pop()\n",
    "        index = index + 1     \n",
    "        \n",
    "    return s.isEmpty()\n",
    "\n",
    "def match(left,right):\n",
    "    return \"{[(\".index(left) == \"}])\".index(right)\n"
   ]
  },
  {
   "cell_type": "code",
   "execution_count": 81,
   "metadata": {},
   "outputs": [
    {
     "name": "stdout",
     "output_type": "stream",
     "text": [
      "False\n"
     ]
    }
   ],
   "source": [
    "print(multi_par_checker(\"{{([])}}[]}\"))"
   ]
  }
 ],
 "metadata": {
  "kernelspec": {
   "display_name": "Python 3",
   "language": "python",
   "name": "python3"
  },
  "language_info": {
   "codemirror_mode": {
    "name": "ipython",
    "version": 3
   },
   "file_extension": ".py",
   "mimetype": "text/x-python",
   "name": "python",
   "nbconvert_exporter": "python",
   "pygments_lexer": "ipython3",
   "version": "3.6.3"
  }
 },
 "nbformat": 4,
 "nbformat_minor": 2
}
