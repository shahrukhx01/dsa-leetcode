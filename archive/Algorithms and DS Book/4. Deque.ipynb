{
 "cells": [
  {
   "cell_type": "code",
   "execution_count": 1,
   "metadata": {},
   "outputs": [],
   "source": [
    "class Deque:\n",
    "    def __init__(self):\n",
    "        self.items = []\n",
    "    \n",
    "    def enqueue_front(self,item):\n",
    "        self.items.append(item)\n",
    "        \n",
    "    def enqueue_rear(self,item):\n",
    "        self.items.insert(0,item)\n",
    "        \n",
    "    def dequeue_front(self):\n",
    "        return self.items.pop()\n",
    "    \n",
    "    def dequeue_rear(self):\n",
    "        return self.items.pop(0)\n",
    "    \n",
    "    def size(self):\n",
    "        return len(self.items)\n",
    "    \n",
    "    def is_empty(self):\n",
    "        return self.size() == 0"
   ]
  },
  {
   "cell_type": "code",
   "execution_count": 3,
   "metadata": {},
   "outputs": [
    {
     "name": "stdout",
     "output_type": "stream",
     "text": [
      "True\n",
      "4\n",
      "False\n",
      "8.4\n",
      "True\n"
     ]
    }
   ],
   "source": [
    "d=Deque()\n",
    "print(d.is_empty())\n",
    "d.enqueue_rear(4)\n",
    "d.enqueue_rear('dog')\n",
    "d.enqueue_front('cat')\n",
    "d.enqueue_front(True)\n",
    "print(d.size())\n",
    "print(d.is_empty())\n",
    "d.enqueue_rear(8.4)\n",
    "print(d.dequeue_rear())\n",
    "print(d.dequeue_front())"
   ]
  }
 ],
 "metadata": {
  "kernelspec": {
   "display_name": "Python 3",
   "language": "python",
   "name": "python3"
  },
  "language_info": {
   "codemirror_mode": {
    "name": "ipython",
    "version": 3
   },
   "file_extension": ".py",
   "mimetype": "text/x-python",
   "name": "python",
   "nbconvert_exporter": "python",
   "pygments_lexer": "ipython3",
   "version": "3.6.3"
  }
 },
 "nbformat": 4,
 "nbformat_minor": 2
}
