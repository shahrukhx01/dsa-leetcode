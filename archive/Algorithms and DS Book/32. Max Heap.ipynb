{
 "cells": [
  {
   "cell_type": "code",
   "execution_count": 37,
   "metadata": {},
   "outputs": [],
   "source": [
    "class MaxHeap:\n",
    "    def __init__(self):\n",
    "        self.heap_data = [0]\n",
    "        self.size = 0\n",
    "        \n",
    "    def add(self,data):\n",
    "        self.heap_data.append(data)\n",
    "        self.size += 1\n",
    "        self.heapify_up()\n",
    "    \n",
    "    def heapify_up(self):\n",
    "        i = self.size\n",
    "        while i//2 > 0:\n",
    "            if self.heap_data[i] > self.heap_data[(i//2)]:\n",
    "                temp = self.heap_data[i]\n",
    "                self.heap_data[i] = self.heap_data[(i//2)]\n",
    "                self.heap_data[(i//2)] = temp\n",
    "            else:\n",
    "                break\n",
    "            i = i // 2\n",
    "            \n",
    "    def print_heap(self):\n",
    "        print(self.heap_data)\n",
    "        \n",
    "    \n",
    "    def remove(self):\n",
    "        self.heap_data[1] = self.heap_data[self.size]\n",
    "        self.size -= 1\n",
    "        self.heap_data.pop()\n",
    "        self.heapify_down()\n",
    "        \n",
    "    def heapify_down(self):\n",
    "        i = 1\n",
    "        while i * 2 < self.size:\n",
    "            max_index = self.max_index(i*2,i*2+1)\n",
    "            if self.heap_data[i] < self.heap_data[max_index] :\n",
    "                self.swap(i,max_index)\n",
    "            else:\n",
    "                break\n",
    "            \n",
    "            i = i * 2\n",
    "            \n",
    "    def max_index(self,index1,index2):\n",
    "        if self.heap_data[index1] < self.heap_data[index2]:\n",
    "            return index2\n",
    "        else:\n",
    "            return index1\n",
    "            \n",
    "    def swap(self,a,b):\n",
    "            temp = self.heap_data[a]\n",
    "            self.heap_data[a] = self.heap_data[b]\n",
    "            self.heap_data[b] = temp\n",
    "\n",
    "    "
   ]
  },
  {
   "cell_type": "code",
   "execution_count": 38,
   "metadata": {},
   "outputs": [
    {
     "name": "stdout",
     "output_type": "stream",
     "text": [
      "[0]\n",
      "[0, 9, 6, 7, 5]\n",
      "[0, 7, 6, 5]\n"
     ]
    }
   ],
   "source": [
    "max_heap = MaxHeap()\n",
    "max_heap.print_heap()\n",
    "max_heap.add(5)\n",
    "max_heap.add(7)\n",
    "max_heap.add(9)\n",
    "max_heap.add(6)\n",
    "max_heap.print_heap()\n",
    "\n",
    "max_heap.remove()\n",
    "max_heap.print_heap()\n"
   ]
  }
 ],
 "metadata": {
  "kernelspec": {
   "display_name": "Python 3",
   "language": "python",
   "name": "python3"
  },
  "language_info": {
   "codemirror_mode": {
    "name": "ipython",
    "version": 3
   },
   "file_extension": ".py",
   "mimetype": "text/x-python",
   "name": "python",
   "nbconvert_exporter": "python",
   "pygments_lexer": "ipython3",
   "version": "3.6.3"
  }
 },
 "nbformat": 4,
 "nbformat_minor": 2
}
