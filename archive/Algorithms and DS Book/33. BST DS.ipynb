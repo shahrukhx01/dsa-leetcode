{
 "cells": [
  {
   "cell_type": "code",
   "execution_count": 26,
   "metadata": {},
   "outputs": [],
   "source": [
    "class Queue:\n",
    "    def  __init__(self):\n",
    "        self.items = []\n",
    "    \n",
    "    def enqueue(self,item):\n",
    "        self.items.insert(0,item)\n",
    "    \n",
    "    def dequeue(self):\n",
    "        return self.items.pop()\n",
    "    \n",
    "    def is_empty(self):\n",
    "        return self.size() == 0\n",
    "    \n",
    "    def size(self):\n",
    "        return len(self.items)\n"
   ]
  },
  {
   "cell_type": "code",
   "execution_count": 35,
   "metadata": {},
   "outputs": [],
   "source": [
    "class BSTree:\n",
    "    def __init__(self,rootVal):\n",
    "        self.left = None\n",
    "        self.right = None\n",
    "        self.key = rootVal\n",
    "    \n",
    "    def insert(self,data):\n",
    "        if data < self.key:\n",
    "            if self.left == None:\n",
    "                t = BSTree(data)\n",
    "                self.left = t\n",
    "            else:\n",
    "                self.left.insert(data)\n",
    "        else:\n",
    "            \n",
    "            if self.right == None:\n",
    "                t = BSTree(data)\n",
    "                self.right = t\n",
    "            else:\n",
    "                self.right.insert(data)\n",
    "    #Binary Search Tree Travsersal Depth First Search with inorder => left,root,right  \n",
    "    def inorder_traversal(self):\n",
    "        if self:\n",
    "            if self.left:\n",
    "                self.left.inorder_traversal()\n",
    "            print(self.key)\n",
    "            if self.right:\n",
    "                self.right.inorder_traversal()\n",
    "    #Binary Search Tree Traversal using Breadth First Search\n",
    "    def BFS(self):\n",
    "        queue = Queue()\n",
    "        queue.enqueue(self)\n",
    "        while queue.size() > 0:\n",
    "            out = queue.dequeue()\n",
    "            print(out.key)\n",
    "            if out.left:\n",
    "                queue.enqueue(out.left)\n",
    "            if out.right:\n",
    "                queue.enqueue(out.right)\n",
    "                \n",
    "    def BFS_recurs(self):\n",
    "            print(self.key)\n",
    "            if self:\n",
    "                self.print_level()\n",
    "            if self.left:\n",
    "                self.left.BFS_recurs()\n",
    "            if self.right:\n",
    "                self.right.BFS_recurs()\n",
    "    def print_level(self):\n",
    "        print(self.right)\n",
    "        print(self.left)"
   ]
  },
  {
   "cell_type": "code",
   "execution_count": 37,
   "metadata": {},
   "outputs": [
    {
     "name": "stdout",
     "output_type": "stream",
     "text": [
      "5\n",
      "3\n",
      "2\n",
      "4\n",
      "7\n",
      "6\n",
      "8\n",
      "----\n",
      "5\n",
      "3\n",
      "7\n",
      "2\n",
      "4\n",
      "6\n",
      "8\n"
     ]
    }
   ],
   "source": [
    "root = BSTree(5)\n",
    "root.insert(7)\n",
    "root.insert(3)\n",
    "root.insert(8)\n",
    "root.insert(6)\n",
    "root.insert(4)\n",
    "root.insert(2)\n",
    "#root.inorder_traversal()\n",
    "root.BFS_recurs()\n",
    "print(\"----\")\n",
    "root.BFS()"
   ]
  }
 ],
 "metadata": {
  "kernelspec": {
   "display_name": "Python 3",
   "language": "python",
   "name": "python3"
  },
  "language_info": {
   "codemirror_mode": {
    "name": "ipython",
    "version": 3
   },
   "file_extension": ".py",
   "mimetype": "text/x-python",
   "name": "python",
   "nbconvert_exporter": "python",
   "pygments_lexer": "ipython3",
   "version": "3.6.3"
  }
 },
 "nbformat": 4,
 "nbformat_minor": 2
}
