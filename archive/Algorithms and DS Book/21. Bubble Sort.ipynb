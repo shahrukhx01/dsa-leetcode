{
 "cells": [
  {
   "cell_type": "code",
   "execution_count": 36,
   "metadata": {},
   "outputs": [],
   "source": [
    "def bubble_sort(alist):\n",
    "    for i in range(len(alist)-1):\n",
    "        swap = False\n",
    "        for j in range(len(alist)-(i+1)):\n",
    "            \n",
    "            if alist[j] > alist[j+1]:\n",
    "                temp = alist[j]\n",
    "                alist[j] = alist[j+1] \n",
    "                alist[j+1] = temp\n",
    "                swap = True\n",
    "        if not swap:\n",
    "            print(\"breaking on: \",i+1,\" iteration\")\n",
    "            break\n",
    "    return alist"
   ]
  },
  {
   "cell_type": "code",
   "execution_count": 37,
   "metadata": {},
   "outputs": [
    {
     "name": "stdout",
     "output_type": "stream",
     "text": [
      "breaking on:  9  iteration\n"
     ]
    },
    {
     "data": {
      "text/plain": [
       "[1, 1, 2, 2, 4, 5, 22, 23, 33, 324, 432, 543]"
      ]
     },
     "execution_count": 37,
     "metadata": {},
     "output_type": "execute_result"
    }
   ],
   "source": [
    "alist = [22,1,4,2,5,33,1,324,432,543,23,2]\n",
    "bubble_sort(alist)"
   ]
  }
 ],
 "metadata": {
  "kernelspec": {
   "display_name": "Python 3",
   "language": "python",
   "name": "python3"
  },
  "language_info": {
   "codemirror_mode": {
    "name": "ipython",
    "version": 3
   },
   "file_extension": ".py",
   "mimetype": "text/x-python",
   "name": "python",
   "nbconvert_exporter": "python",
   "pygments_lexer": "ipython3",
   "version": "3.6.3"
  }
 },
 "nbformat": 4,
 "nbformat_minor": 2
}
