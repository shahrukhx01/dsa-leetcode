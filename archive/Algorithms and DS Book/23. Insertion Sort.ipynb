{
 "cells": [
  {
   "cell_type": "code",
   "execution_count": 19,
   "metadata": {},
   "outputs": [],
   "source": [
    "def insertion_sort(alist):\n",
    "    for i in range(1,len(alist)):\n",
    "        index = i\n",
    "        current_value = alist[i]\n",
    "        while index > 0 and alist[index-1] > current_value:\n",
    "            alist[index] = alist[index-1]\n",
    "            index = index - 1\n",
    "        \n",
    "        alist[index] = current_value\n",
    "\n",
    "        \n",
    "    return alist\n",
    "            "
   ]
  },
  {
   "cell_type": "code",
   "execution_count": 20,
   "metadata": {},
   "outputs": [
    {
     "data": {
      "text/plain": [
       "[1, 1, 2, 2, 4, 5, 22, 23, 33, 324, 432, 543]"
      ]
     },
     "execution_count": 20,
     "metadata": {},
     "output_type": "execute_result"
    }
   ],
   "source": [
    "alist = [22,1,4,2,5,33,1,324,432,543,23,2]\n",
    "insertion_sort(alist)"
   ]
  }
 ],
 "metadata": {
  "kernelspec": {
   "display_name": "Python 3",
   "language": "python",
   "name": "python3"
  },
  "language_info": {
   "codemirror_mode": {
    "name": "ipython",
    "version": 3
   },
   "file_extension": ".py",
   "mimetype": "text/x-python",
   "name": "python",
   "nbconvert_exporter": "python",
   "pygments_lexer": "ipython3",
   "version": "3.6.3"
  }
 },
 "nbformat": 4,
 "nbformat_minor": 2
}
