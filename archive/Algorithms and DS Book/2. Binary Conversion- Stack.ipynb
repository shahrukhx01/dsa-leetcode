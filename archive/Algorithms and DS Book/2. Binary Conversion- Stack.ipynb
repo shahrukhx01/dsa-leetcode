{
 "cells": [
  {
   "cell_type": "code",
   "execution_count": 1,
   "metadata": {},
   "outputs": [],
   "source": [
    "class StackEmptyError(Exception):\n",
    "    def __init__(self, message):\n",
    "\n",
    "        # Call the base class constructor with the parameters it needs\n",
    "        super().__init__(message)\n"
   ]
  },
  {
   "cell_type": "code",
   "execution_count": 2,
   "metadata": {},
   "outputs": [],
   "source": [
    "class Stack:\n",
    "    \"\"\"\n",
    "    A class used to represent a Stack\n",
    "\n",
    "    ...\n",
    "\n",
    "    Attributes\n",
    "    ----------\n",
    "    items : list\n",
    "        an ordered list to maintain all the stack items\n",
    "    \n",
    "    Methods\n",
    "    -------\n",
    "    push(item)\n",
    "        Pushes the item to the top of the Stack\n",
    "    pop()\n",
    "        Removes the item from the top of the Stack\n",
    "    is_empty(item)\n",
    "        Checks if Stack is empty or not\n",
    "    peek(item)\n",
    "        Returns the top element of the Stack\n",
    "    size()\n",
    "        Returns the number of items present in the Stack\n",
    "    \n",
    "    \"\"\"\n",
    "    def __init__(self):\n",
    "        \"\"\"Initializes an empty stack\n",
    "        Parameters\n",
    "        ----------\n",
    "        None\n",
    "        \n",
    "        Returns\n",
    "        ----------\n",
    "        None\n",
    "        \n",
    "        Raises\n",
    "        ------\n",
    "        None\n",
    "        \"\"\"\n",
    "        \n",
    "        self.items = []\n",
    "    \n",
    "    def push(self,item):\n",
    "        \"\"\"Removes the item from the top of the Stack\n",
    "        Parameters\n",
    "        ----------\n",
    "        Any Python data type.\n",
    "        \n",
    "        Returns\n",
    "        ----------\n",
    "        None\n",
    "        \n",
    "        Raises\n",
    "        ------\n",
    "        None\n",
    "        \"\"\"\n",
    "        \n",
    "        self.items.append(item)\n",
    "        \n",
    "    def pop(self):\n",
    "        \"\"\"Removes the item from the top of the Stack\n",
    "        Parameters\n",
    "        ----------\n",
    "        None\n",
    "        \n",
    "        Returns\n",
    "        ----------\n",
    "        None\n",
    "        \n",
    "        Raises\n",
    "        ------\n",
    "        StackEmptyError\n",
    "            If pop is called on a empty stack.\n",
    "        \"\"\"\n",
    "\n",
    "        if len(self.items) == 0:\n",
    "            raise StackEmptyError(\"Stack is already empty!\")\n",
    "            return\n",
    "\n",
    "        return self.items.pop()\n",
    "        \n",
    "    def peek(self):\n",
    "        \"\"\"Removes the item from the top of the Stack\n",
    "        Parameters\n",
    "        ----------\n",
    "        None\n",
    "        \n",
    "        Returns\n",
    "        ----------\n",
    "        None\n",
    "        \n",
    "        Raises\n",
    "        ------\n",
    "        None\n",
    "        \"\"\"\n",
    "        \n",
    "        return self.items[-1]\n",
    "    \n",
    "    def isEmpty(self):\n",
    "        \"\"\"Checks if the stack is empty\n",
    "        Parameters\n",
    "        ----------\n",
    "        None\n",
    "        \n",
    "        Returns\n",
    "        ----------\n",
    "        Boolean\n",
    "        \n",
    "        Raises\n",
    "        ------\n",
    "        None\n",
    "        \"\"\"\n",
    "        \n",
    "        return len(self.items) == 0\n",
    "    \n",
    "    def size(self):\n",
    "        \"\"\"Returns the size of the stack\n",
    "        Parameters\n",
    "        ----------\n",
    "        None\n",
    "        \n",
    "        Returns\n",
    "        ----------\n",
    "        Integer\n",
    "        \n",
    "        Raises\n",
    "        ------\n",
    "        None\n",
    "        \"\"\"\n",
    "        \n",
    "        return len(self.items)\n",
    "    \n",
    "    "
   ]
  },
  {
   "cell_type": "code",
   "execution_count": 3,
   "metadata": {},
   "outputs": [],
   "source": [
    "def convertToBinary(decimal):\n",
    "    stack = Stack()\n",
    "    while decimal > 0:\n",
    "        rem = decimal % 2\n",
    "        stack.push(rem)\n",
    "        decimal = decimal // 2\n",
    "    binary = \"\"\n",
    "    while not stack.isEmpty():\n",
    "        binary = binary + str(stack.pop())\n",
    "    return binary"
   ]
  },
  {
   "cell_type": "code",
   "execution_count": 4,
   "metadata": {},
   "outputs": [
    {
     "data": {
      "text/plain": [
       "'11101001'"
      ]
     },
     "execution_count": 4,
     "metadata": {},
     "output_type": "execute_result"
    }
   ],
   "source": [
    "convertToBinary(233)"
   ]
  },
  {
   "cell_type": "code",
   "execution_count": 14,
   "metadata": {},
   "outputs": [],
   "source": [
    "def convertBase(decimal,base):\n",
    "    digits = \"0123456789ABCDEF\"\n",
    "    stack = Stack()\n",
    "    while decimal > 0:\n",
    "        rem = decimal % base\n",
    "        stack.push(rem)\n",
    "        decimal = decimal // base\n",
    "    converted = \"\"\n",
    "    while not stack.isEmpty():\n",
    "        converted = converted + digits[stack.pop()]\n",
    "    return converted"
   ]
  },
  {
   "cell_type": "code",
   "execution_count": 20,
   "metadata": {},
   "outputs": [
    {
     "data": {
      "text/plain": [
       "'10'"
      ]
     },
     "execution_count": 20,
     "metadata": {},
     "output_type": "execute_result"
    }
   ],
   "source": [
    "convertBase(26,26)"
   ]
  }
 ],
 "metadata": {
  "kernelspec": {
   "display_name": "Python 3",
   "language": "python",
   "name": "python3"
  },
  "language_info": {
   "codemirror_mode": {
    "name": "ipython",
    "version": 3
   },
   "file_extension": ".py",
   "mimetype": "text/x-python",
   "name": "python",
   "nbconvert_exporter": "python",
   "pygments_lexer": "ipython3",
   "version": "3.6.3"
  }
 },
 "nbformat": 4,
 "nbformat_minor": 2
}
